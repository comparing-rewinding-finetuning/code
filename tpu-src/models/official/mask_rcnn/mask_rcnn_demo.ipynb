{
 "nbformat": 4,
 "nbformat_minor": 0,
 "metadata": {
  "language_info": {
   "name": "python",
   "pygments_lexer": "ipython3"
  }
 },
 "cells": [
  {
   "metadata": {},
   "cell_type": "markdown",
   "source": [
    "# Mask R-CNN Image Segmentation Demo\n",
    "This Colab enables you to use a Mask R-CNN model that was trained on Cloud TPU to perform instance segmentation on a sample input image. The resulting predictions are overlayed on the sample image as boxes, instance masks, and labels. You can also experiment with your own images by editing the input image URL.\n",
    "\n",
    "### About Mask R-CNN\n",
    "The Mask R-CNN model addresses one of the most difficult computer vision challenges: image segmentation. Image segmentation is the task of detecting and distinguishing multiple objects within a single image. In particular, Mask R-CNN performs \"instance segmentation,\" which means that different instances of the same type of object in the input image, for example, car, should be assigned distinct labels."
   ]
  },
  {
   "metadata": {},
   "cell_type": "markdown",
   "source": [
    "# Instructions\n",
    "<h3><a href=\"https://cloud.google.com/tpu/\"><img valign=\"middle\" src=\"https://raw.githubusercontent.com/GoogleCloudPlatform/tensorflow-without-a-phd/master/tensorflow-rl-pong/images/tpu-hexagon.png\" width=\"50\"></a>  &nbsp;&nbsp;Use a free Cloud TPU</h3>\n",
    " \n",
    "   1. On the main menu, click Runtime and select **Change runtime type**. Set \"TPU\" as the hardware accelerator.\n",
    "   2. Click Runtime again and select **Runtime > Run All**. You can also run the cells manually with Shift-ENTER."
   ]
  },
  {
   "metadata": {},
   "cell_type": "markdown",
   "source": [
    "## Download the source code\n",
    "Download the source code of the Mask R-CNN model."
   ]
  },
  {
   "metadata": {},
   "cell_type": "code",
   "source": [
    "!git clone https://github.com/tensorflow/tpu/"
   ],
   "execution_count": null,
   "outputs": []
  },
  {
   "metadata": {},
   "cell_type": "markdown",
   "source": [
    "## Import libraries"
   ]
  },
  {
   "metadata": {},
   "cell_type": "code",
   "source": [
    "from IPython import display\n",
    "from PIL import Image\n",
    "import numpy as np\n",
    "import tensorflow as tf\n",
    "import sys\n",
    "sys.path.insert(0, 'tpu/models/official')\n",
    "sys.path.insert(0, 'tpu/models/official/mask_rcnn')\n",
    "import coco_metric\n",
    "from mask_rcnn.object_detection import visualization_utils"
   ],
   "execution_count": null,
   "outputs": []
  },
  {
   "metadata": {},
   "cell_type": "markdown",
   "source": [
    "## Load the COCO index mapping\n",
    "This Colab uses a pretrained checkpoint of the Mask R-CNN model that is trained using the COCO dataset. Here is the mapping between the indices that the model predicts and the categories in text."
   ]
  },
  {
   "metadata": {},
   "cell_type": "code",
   "source": [
    "ID_MAPPING = {\n",
    "    1: 'person',\n",
    "    2: 'bicycle',\n",
    "    3: 'car',\n",
    "    4: 'motorcycle',\n",
    "    5: 'airplane',\n",
    "    6: 'bus',\n",
    "    7: 'train',\n",
    "    8: 'truck',\n",
    "    9: 'boat',\n",
    "    10: 'traffic light',\n",
    "    11: 'fire hydrant',\n",
    "    13: 'stop sign',\n",
    "    14: 'parking meter',\n",
    "    15: 'bench',\n",
    "    16: 'bird',\n",
    "    17: 'cat',\n",
    "    18: 'dog',\n",
    "    19: 'horse',\n",
    "    20: 'sheep',\n",
    "    21: 'cow',\n",
    "    22: 'elephant',\n",
    "    23: 'bear',\n",
    "    24: 'zebra',\n",
    "    25: 'giraffe',\n",
    "    27: 'backpack',\n",
    "    28: 'umbrella',\n",
    "    31: 'handbag',\n",
    "    32: 'tie',\n",
    "    33: 'suitcase',\n",
    "    34: 'frisbee',\n",
    "    35: 'skis',\n",
    "    36: 'snowboard',\n",
    "    37: 'sports ball',\n",
    "    38: 'kite',\n",
    "    39: 'baseball bat',\n",
    "    40: 'baseball glove',\n",
    "    41: 'skateboard',\n",
    "    42: 'surfboard',\n",
    "    43: 'tennis racket',\n",
    "    44: 'bottle',\n",
    "    46: 'wine glass',\n",
    "    47: 'cup',\n",
    "    48: 'fork',\n",
    "    49: 'knife',\n",
    "    50: 'spoon',\n",
    "    51: 'bowl',\n",
    "    52: 'banana',\n",
    "    53: 'apple',\n",
    "    54: 'sandwich',\n",
    "    55: 'orange',\n",
    "    56: 'broccoli',\n",
    "    57: 'carrot',\n",
    "    58: 'hot dog',\n",
    "    59: 'pizza',\n",
    "    60: 'donut',\n",
    "    61: 'cake',\n",
    "    62: 'chair',\n",
    "    63: 'couch',\n",
    "    64: 'potted plant',\n",
    "    65: 'bed',\n",
    "    67: 'dining table',\n",
    "    70: 'toilet',\n",
    "    72: 'tv',\n",
    "    73: 'laptop',\n",
    "    74: 'mouse',\n",
    "    75: 'remote',\n",
    "    76: 'keyboard',\n",
    "    77: 'cell phone',\n",
    "    78: 'microwave',\n",
    "    79: 'oven',\n",
    "    80: 'toaster',\n",
    "    81: 'sink',\n",
    "    82: 'refrigerator',\n",
    "    84: 'book',\n",
    "    85: 'clock',\n",
    "    86: 'vase',\n",
    "    87: 'scissors',\n",
    "    88: 'teddy bear',\n",
    "    89: 'hair drier',\n",
    "    90: 'toothbrush',\n",
    "}\n",
    "category_index = {k: {'id': k, 'name': ID_MAPPING[k]} for k in ID_MAPPING}"
   ],
   "execution_count": null,
   "outputs": []
  },
  {
   "metadata": {},
   "cell_type": "markdown",
   "source": [
    "## Load an image\n",
    "Now, you can load an image. Use either the sample image included here, or update the field with an image of your choice."
   ]
  },
  {
   "metadata": {},
   "cell_type": "code",
   "source": [
    "!wget https://upload.wikimedia.org/wikipedia/commons/thumb/0/08/Kitano_Street_Kobe01s5s4110.jpg/2560px-Kitano_Street_Kobe01s5s4110.jpg -O test.jpg\n",
    "image_path = 'test.jpg'\n",
    "\n",
    "with open(image_path, 'rb') as f:\n",
    "  np_image_string = np.array([f.read()])\n",
    "  \n",
    "image = Image.open(image_path)\n",
    "width, height = image.size\n",
    "np_image = np.array(image.getdata()).reshape(height, width, 3).astype(np.uint8)\n",
    "\n",
    "display.display(display.Image(image_path, width=1024))"
   ],
   "execution_count": null,
   "outputs": []
  },
  {
   "metadata": {},
   "cell_type": "markdown",
   "source": [
    "## Create a Tensorflow session\n",
    "Now let us create a Tensorflow session to run the inference. You can either connect to a TPU or a normal CPU backend."
   ]
  },
  {
   "metadata": {},
   "cell_type": "code",
   "source": [
    "use_tpu = True #@param {type:\"boolean\"}\n",
    "if use_tpu:\n",
    "  import os\n",
    "  import pprint\n",
    "\n",
    "  assert 'COLAB_TPU_ADDR' in os.environ, 'ERROR: Not connected to a TPU runtime; please see the first cell in this notebook for instructions!'\n",
    "  TPU_ADDRESS = 'grpc://' + os.environ['COLAB_TPU_ADDR']\n",
    "  print('TPU address is', TPU_ADDRESS)\n",
    "\n",
    "  session = tf.Session(TPU_ADDRESS, graph=tf.Graph())\n",
    "  print('TPU devices:')\n",
    "  pprint.pprint(session.list_devices())\n",
    "else:\n",
    "  session = tf.Session(graph=tf.Graph())"
   ],
   "execution_count": null,
   "outputs": []
  },
  {
   "metadata": {},
   "cell_type": "markdown",
   "source": [
    "# Load the pretrained model\n",
    "Loading the COCO pretrained saved model from the public GCS bucket. "
   ]
  },
  {
   "metadata": {},
   "cell_type": "code",
   "source": [
    "saved_model_dir = 'gs://cloud-tpu-checkpoints/mask-rcnn/1555659850' #@param {type:\"string\"}\n",
    "_ = tf.saved_model.loader.load(session, ['serve'], saved_model_dir)"
   ],
   "execution_count": null,
   "outputs": []
  },
  {
   "metadata": {},
   "cell_type": "markdown",
   "source": [
    "## Perform instance segmentation and retrieve the predictions\n",
    "Now let's run the inference and process the predictions from the model.\n"
   ]
  },
  {
   "metadata": {},
   "cell_type": "code",
   "source": [
    "num_detections, detection_boxes, detection_classes, detection_scores, detection_masks, image_info = session.run(\n",
    "    ['NumDetections:0', 'DetectionBoxes:0', 'DetectionClasses:0', 'DetectionScores:0', 'DetectionMasks:0', 'ImageInfo:0'],\n",
    "    feed_dict={'Placeholder:0': np_image_string})\n",
    "\n",
    "num_detections = np.squeeze(num_detections.astype(np.int32), axis=(0,))\n",
    "detection_boxes = np.squeeze(detection_boxes * image_info[0, 2], axis=(0,))[0:num_detections]\n",
    "detection_scores = np.squeeze(detection_scores, axis=(0,))[0:num_detections]\n",
    "detection_classes = np.squeeze(detection_classes.astype(np.int32), axis=(0,))[0:num_detections]\n",
    "instance_masks = np.squeeze(detection_masks, axis=(0,))[0:num_detections]\n",
    "ymin, xmin, ymax, xmax = np.split(detection_boxes, 4, axis=-1)\n",
    "processed_boxes = np.concatenate([xmin, ymin, xmax - xmin, ymax - ymin], axis=-1)\n",
    "segmentations = coco_metric.generate_segmentation_from_masks(instance_masks, processed_boxes, height, width)"
   ],
   "execution_count": null,
   "outputs": []
  },
  {
   "metadata": {},
   "cell_type": "markdown",
   "source": [
    "## Visualize the detection results\n",
    "Time to check out the result!"
   ]
  },
  {
   "metadata": {},
   "cell_type": "code",
   "source": [
    "max_boxes_to_draw = 50   #@param {type:\"integer\"}\n",
    "min_score_thresh = 0.1    #@param {type:\"slider\", min:0, max:1, step:0.01}\n",
    "\n",
    "image_with_detections = visualization_utils.visualize_boxes_and_labels_on_image_array(\n",
    "    np_image,\n",
    "    detection_boxes,\n",
    "    detection_classes,\n",
    "    detection_scores,\n",
    "    category_index,\n",
    "    instance_masks=segmentations,\n",
    "    use_normalized_coordinates=False,\n",
    "    max_boxes_to_draw=max_boxes_to_draw,\n",
    "    min_score_thresh=min_score_thresh)\n",
    "output_image_path = 'test_results.jpg'\n",
    "Image.fromarray(image_with_detections.astype(np.uint8)).save(output_image_path)\n",
    "display.display(display.Image(output_image_path, width=1024))"
   ],
   "execution_count": null,
   "outputs": []
  },
  {
   "metadata": {},
   "cell_type": "markdown",
   "source": [
    "# What's next\n",
    "\n",
    "* Learn about [Cloud TPUs](https://cloud.google.com/tpu/docs) that Google designed and optimized specifically to speed up and scale up ML workloads for training and inference and to enable ML engineers and researchers to iterate more quickly.\n",
    "* Explore the range of [Cloud TPU tutorials and Colabs](https://cloud.google.com/tpu/docs/tutorials) to find other examples that can be used when implementing your ML project.\n",
    "* [Here's](https://cloud.google.com/tpu/docs/tutorials/mask-rcnn) a direct link to the Mask R-CNN tutorial.\n"
   ]
  }
 ]
}
