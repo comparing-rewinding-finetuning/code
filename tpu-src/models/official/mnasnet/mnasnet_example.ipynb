{
 "nbformat": 4,
 "nbformat_minor": 0,
 "metadata": {
  "language_info": {
   "name": "python",
   "pygments_lexer": "ipython3"
  }
 },
 "cells": [
  {
   "metadata": {},
   "cell_type": "markdown",
   "source": [
    "# Prerequisites (downloading tensorflow/tpu and checkpoints)"
   ]
  },
  {
   "metadata": {},
   "cell_type": "code",
   "source": [
    "from IPython import display\n",
    "!git clone https://github.com/tensorflow/tpu\n",
    "display.clear_output()"
   ],
   "execution_count": null,
   "outputs": []
  },
  {
   "metadata": {},
   "cell_type": "code",
   "source": [
    "from __future__ import print_function\n",
    "\n",
    "checkpoint_name = 'mnasnet-a1' #@param\n",
    "url = 'https://storage.googleapis.com/mnasnet/checkpoints/' + checkpoint_name + '.tar.gz'\n",
    "print('Downloading from ', url)\n",
    "!wget {url}\n",
    "print('Unpacking')\n",
    "!tar -xvf {checkpoint_name}.tar.gz\n",
    "\n",
    "display.clear_output()\n",
    "print('Successfully downloaded checkpoint from ', url,\n",
    "      '. It is available as', checkpoint_name)"
   ],
   "execution_count": null,
   "outputs": []
  },
  {
   "metadata": {},
   "cell_type": "code",
   "source": [
    "!wget https://upload.wikimedia.org/wikipedia/commons/f/fe/Giant_Panda_in_Beijing_Zoo_1.JPG -O panda.jpg"
   ],
   "execution_count": null,
   "outputs": []
  },
  {
   "metadata": {},
   "cell_type": "code",
   "source": [
    "# setup path\n",
    "import sys\n",
    "sys.path.append('/content/tpu/models/official/mnasnet')\n",
    "sys.path.append('/content/tpu/models/common')"
   ],
   "execution_count": null,
   "outputs": []
  },
  {
   "metadata": {},
   "cell_type": "markdown",
   "source": [
    "\n",
    "\n",
    "```\n",
    "# This is formatted as code\n",
    "```\n",
    "\n",
    "# Inference with SavedModel"
   ]
  },
  {
   "metadata": {},
   "cell_type": "code",
   "source": [
    "from IPython import display\n",
    "import pylab\n",
    "import PIL\n",
    "import numpy as np\n",
    "filename = 'panda.jpg'\n",
    "display.display(display.Image(filename))\n",
    "img = np.array(PIL.Image.open(filename).resize((224, 224))).astype(np.float)"
   ],
   "execution_count": null,
   "outputs": []
  },
  {
   "metadata": {},
   "cell_type": "code",
   "source": [
    "import os\n",
    "import tensorflow as tf\n",
    "\n",
    "checkpoint_name = 'mnasnet-a1'\n",
    "export_dir = os.path.join(checkpoint_name, 'saved_model')\n",
    "serv_sess = tf.Session(graph=tf.Graph())\n",
    "meta_graph_def = tf.saved_model.loader.load(serv_sess, [tf.saved_model.tag_constants.SERVING], export_dir)\n"
   ],
   "execution_count": null,
   "outputs": []
  },
  {
   "metadata": {},
   "cell_type": "code",
   "source": [
    "# Checks the saved model signatures.\n",
    "signature = 'serving_default'\n",
    "print('Serving Signature: ', signature)\n",
    "print(meta_graph_def.signature_def[signature])"
   ],
   "execution_count": null,
   "outputs": []
  },
  {
   "metadata": {},
   "cell_type": "code",
   "source": [
    "import imagenet\n",
    "\n",
    "top_class, probs = serv_sess.run(fetches=[\"ArgMax:0\", \"softmax_tensor:0\"], feed_dict={\"Placeholder:0\": [img]})\n",
    "print(\"Top class: \", top_class[0], \" with Probability= \", probs[0][top_class[0]])\n",
    "label_map = imagenet.create_readable_names_for_imagenet_labels()  \n",
    "for idx, label_id in enumerate(reversed(list(np.argsort(probs)[0][-5:]))):\n",
    "  print(\"Top %d Prediction: %d, %s, probs=%f\" % (idx+1, label_id, label_map[label_id], probs[0][label_id]))\n",
    "  "
   ],
   "execution_count": null,
   "outputs": []
  }
 ]
}
